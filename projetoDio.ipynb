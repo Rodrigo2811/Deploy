{
  "nbformat": 4,
  "nbformat_minor": 0,
  "metadata": {
    "colab": {
      "provenance": [],
      "authorship_tag": "ABX9TyNA5zS/3mb+350g3XQa4cBu",
      "include_colab_link": true
    },
    "kernelspec": {
      "name": "python3",
      "display_name": "Python 3"
    },
    "language_info": {
      "name": "python"
    }
  },
  "cells": [
    {
      "cell_type": "markdown",
      "metadata": {
        "id": "view-in-github",
        "colab_type": "text"
      },
      "source": [
        "<a href=\"https://colab.research.google.com/github/Rodrigo2811/Deploy/blob/main/projetoDio.ipynb\" target=\"_parent\"><img src=\"https://colab.research.google.com/assets/colab-badge.svg\" alt=\"Open In Colab\"/></a>"
      ]
    },
    {
      "cell_type": "code",
      "source": [
        "import os\n",
        "import time\n",
        "import json\n",
        "from random import random\n",
        "from datetime import datetime\n",
        "import requests"
      ],
      "metadata": {
        "id": "b4rBOaCn9hoi"
      },
      "execution_count": null,
      "outputs": []
    },
    {
      "cell_type": "code",
      "source": [
        "URL = 'https://www2.cetip.com.br/ConsultarTaxaDi/ConsultarTaxaDICetip.aspx'"
      ],
      "metadata": {
        "id": "GUxGPH6Z9oA2"
      },
      "execution_count": null,
      "outputs": []
    },
    {
      "cell_type": "code",
      "source": [
        "# Criando a variável data e hora\n",
        "\n",
        "for _ in range(0, 10):\n",
        "\n",
        "\tdata_e_hora = datetime.now()\n",
        "\tdata = datetime.strftime(data_e_hora, '%Y/%m/%d')\n",
        "\thora = datetime.strftime(data_e_hora, '%H:%M:%S')\n"
      ],
      "metadata": {
        "id": "Zth2zesm9qOD"
      },
      "execution_count": null,
      "outputs": []
    },
    {
      "cell_type": "code",
      "source": [
        "# Captando a taxa CDI do site da B3\n",
        "try:\n",
        "\tresponse = requests.get(URL)\n",
        "\tresponse.raise_for_status()\n",
        "except requests.HTTPError as exc:\n",
        "\tprint(\"Dado não encontrado, continuando.\")\n",
        "\tcdi = None\n",
        "except Exception as exc:\n",
        "\tprint(\"Erro, parando a execução.\")\n",
        "\traise exc\n",
        "else:\n",
        "\tdado = json.loads(response.text)\n",
        "\tcdi = float(dado['taxa'].replace(',', '.')) + (random() - 0.5)"
      ],
      "metadata": {
        "id": "gHzRks3Q9vC3"
      },
      "execution_count": null,
      "outputs": []
    },
    {
      "cell_type": "code",
      "source": [
        "# Verificando se o arquivo \"taxa-cdi.csv\" existe\n",
        "\n",
        "if os.path.exists('./taxa-cdi.csv') == False:\n",
        "\n",
        "\twith open(file='./taxa-cdi.csv', mode='w', encoding='utf8') as fp:\n",
        "\t   fp.write('data,hora,taxa\\n')"
      ],
      "metadata": {
        "id": "IzevnOe09v4O"
      },
      "execution_count": null,
      "outputs": []
    },
    {
      "cell_type": "code",
      "source": [
        "# Salvando dados no arquivo \"taxa-cdi.csv\"\n",
        "\n",
        "with open(file='./taxa-cdi.csv', mode='a', encoding='utf8') as fp:\n",
        "\tfp.write(f'{data},{hora},{cdi:.2f}\\n')\n",
        "time.sleep(2 + (random() - 0.5))\n",
        "print(\"Taxa coletada com sucesso\")"
      ],
      "metadata": {
        "colab": {
          "base_uri": "https://localhost:8080/"
        },
        "id": "3Z4sYk0T9y7b",
        "outputId": "5b49e545-3d8c-46c4-ff9d-416b17f9667f"
      },
      "execution_count": null,
      "outputs": [
        {
          "output_type": "stream",
          "name": "stdout",
          "text": [
            "Taxa coletada com sucesso\n"
          ]
        }
      ]
    }
  ]
}